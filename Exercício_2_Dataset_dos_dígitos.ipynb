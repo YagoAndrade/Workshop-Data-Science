{
  "nbformat": 4,
  "nbformat_minor": 0,
  "metadata": {
    "colab": {
      "name": "Workshop Exercício 2 - Dataset dos dígitos.ipynb",
      "provenance": [],
      "collapsed_sections": [],
      "authorship_tag": "ABX9TyOOsPy9F/IMrzu+0uEbgI93",
      "include_colab_link": true
    },
    "kernelspec": {
      "name": "python3",
      "display_name": "Python 3"
    },
    "language_info": {
      "name": "python"
    }
  },
  "cells": [
    {
      "cell_type": "markdown",
      "metadata": {
        "id": "view-in-github",
        "colab_type": "text"
      },
      "source": [
        "<a href=\"https://colab.research.google.com/github/YagoAndrade/Workshop-Data-Science/blob/main/Exerc%C3%ADcio_2_Dataset_dos_d%C3%ADgitos.ipynb\" target=\"_parent\"><img src=\"https://colab.research.google.com/assets/colab-badge.svg\" alt=\"Open In Colab\"/></a>"
      ]
    },
    {
      "cell_type": "code",
      "metadata": {
        "id": "B9vs4dPMQ_ww"
      },
      "source": [
        "from matplotlib import pyplot as plt\n",
        "from sklearn import datasets, svm, metrics\n",
        "from sklearn.model_selection import train_test_split\n",
        "from sklearn.tree import DecisionTreeClassifier \n",
        "from sklearn.neighbors import KNeighborsClassifier"
      ],
      "execution_count": null,
      "outputs": []
    },
    {
      "cell_type": "code",
      "metadata": {
        "id": "aCOnLg0aRB4I",
        "colab": {
          "base_uri": "https://localhost:8080/",
          "height": 141
        },
        "outputId": "73532000-cc88-4f7f-92d0-79d942d49bfb"
      },
      "source": [
        "## Carrega a base de dados dos dígitos\n",
        "digits = datasets.load_digits()\n",
        "\n",
        "## Printa as imagens de dígitos na base de dados\n",
        "_, axes = plt.subplots(nrows=1, ncols=10, figsize=(20, 3))\n",
        "\n",
        "for ax, image, label in zip(axes, digits.images, digits.target):\n",
        "    ax.set_axis_off()\n",
        "    ax.imshow(image, cmap=plt.cm.gray_r, interpolation='nearest')\n",
        "    ax.set_title('Treino: %i' % label)"
      ],
      "execution_count": null,
      "outputs": [
        {
          "output_type": "display_data",
          "data": {
            "image/png": "[encoded data removed]",
            "text/plain": [
              "<Figure size 1440x216 with 10 Axes>"
            ]
          },
          "metadata": {
            "tags": [],
            "needs_background": "light"
          }
        }
      ]
    },
    {
      "cell_type": "code",
      "metadata": {
        "id": "Moy-LuDOtjZv"
      },
      "source": [
        "## Remodela as imagens para o processamento\n",
        "n_samples = len(digits.images)\n",
        "\n",
        "## Define o X e armazena nele as informações que temos para predizer o Y\n",
        "x = digits.images.reshape((n_samples, -1))\n",
        "\n",
        "## Define o Y, o resultado que queremos descobrir\n",
        "y = digits.target"
      ],
      "execution_count": null,
      "outputs": []
    },
    {
      "cell_type": "code",
      "metadata": {
        "id": "oDh33sZYRbBb"
      },
      "source": [
        "## Cria um classificador SVC\n",
        "clf = svm.SVC(gamma=0.001)"
      ],
      "execution_count": null,
      "outputs": []
    },
    {
      "cell_type": "code",
      "metadata": {
        "id": "JXWsg6CkRhD4"
      },
      "source": [
        "## Divide a base de dados em 70% para treino e 30% para teste\n",
        "X_train, X_test, y_train, y_test = train_test_split(x, y, test_size=0.30, random_state=42)\n",
        "\n",
        "## Treina a arvore com os dados de treino\n",
        "clf.fit(X_train, y_train)\n",
        "\n",
        "## Prevê e classifica o valor do dígito baseado no subconjunto de teste\n",
        "predicted = clf.predict(X_test)"
      ],
      "execution_count": null,
      "outputs": []
    },
    {
      "cell_type": "code",
      "metadata": {
        "colab": {
          "base_uri": "https://localhost:8080/",
          "height": 168
        },
        "id": "FJQyJJ7UMnPl",
        "outputId": "78d15816-8f22-4067-89de-8e3e291a4132"
      },
      "source": [
        "## Printa as imagens de previsão\n",
        "_, axes = plt.subplots(nrows=1, ncols=4, figsize=(10, 3))\n",
        "for ax, image, prediction in zip(axes, X_test, predicted):\n",
        "    ax.set_axis_off()\n",
        "    image = image.reshape(8, 8)\n",
        "    ax.imshow(image, cmap=plt.cm.gray_r, interpolation='nearest')\n",
        "    ax.set_title(f'Previsão: {prediction}')"
      ],
      "execution_count": null,
      "outputs": [
        {
          "output_type": "display_data",
          "data": {
            "image/png": "[encoded data removed]",
            "text/plain": [
              "<Figure size 720x216 with 4 Axes>"
            ]
          },
          "metadata": {
            "tags": [],
            "needs_background": "light"
          }
        }
      ]
    },
    {
      "cell_type": "code",
      "metadata": {
        "colab": {
          "base_uri": "https://localhost:8080/"
        },
        "id": "dSU-px3hM6nk",
        "outputId": "dac67245-8dab-4d8b-ae9b-3cd27ff11721"
      },
      "source": [
        "print(f\"Relatório de classificação do {clf}:\\n\"\n",
        "      f\"{metrics.classification_report(y_test, predicted)}\\n\")"
      ],
      "execution_count": null,
      "outputs": [
        {
          "output_type": "stream",
          "text": [
            "Relatório de classificação do SVC(C=1.0, break_ties=False, cache_size=200, class_weight=None, coef0=0.0,\n",
            "    decision_function_shape='ovr', degree=3, gamma=0.001, kernel='rbf',\n",
            "    max_iter=-1, probability=False, random_state=None, shrinking=True,\n",
            "    tol=0.001, verbose=False):\n",
            "              precision    recall  f1-score   support\n",
            "\n",
            "           0       1.00      1.00      1.00        53\n",
            "           1       1.00      1.00      1.00        50\n",
            "           2       1.00      1.00      1.00        47\n",
            "           3       0.98      0.96      0.97        54\n",
            "           4       1.00      1.00      1.00        60\n",
            "           5       0.99      1.00      0.99        66\n",
            "           6       1.00      1.00      1.00        53\n",
            "           7       0.98      0.98      0.98        55\n",
            "           8       0.98      1.00      0.99        43\n",
            "           9       0.98      0.97      0.97        59\n",
            "\n",
            "    accuracy                           0.99       540\n",
            "   macro avg       0.99      0.99      0.99       540\n",
            "weighted avg       0.99      0.99      0.99       540\n",
            "\n",
            "\n"
          ],
          "name": "stdout"
        }
      ]
    },
    {
      "cell_type": "code",
      "metadata": {
        "id": "8S3JrDMkNAf7",
        "colab": {
          "base_uri": "https://localhost:8080/",
          "height": 495
        },
        "outputId": "d68d8ffc-9491-478f-febc-54580421a41b"
      },
      "source": [
        "disp = metrics.plot_confusion_matrix(clf, X_test, y_test)\n",
        "disp.figure_.suptitle(\"Confusion Matrix\")\n",
        "print(f\"Confusion matrix:\\n{disp.confusion_matrix}\")\n",
        "\n",
        "plt.show()"
      ],
      "execution_count": null,
      "outputs": [
        {
          "output_type": "stream",
          "text": [
            "Confusion matrix:\n",
            "[[53  0  0  0  0  0  0  0  0  0]\n",
            " [ 0 50  0  0  0  0  0  0  0  0]\n",
            " [ 0  0 47  0  0  0  0  0  0  0]\n",
            " [ 0  0  0 52  0  1  0  0  1  0]\n",
            " [ 0  0  0  0 60  0  0  0  0  0]\n",
            " [ 0  0  0  0  0 66  0  0  0  0]\n",
            " [ 0  0  0  0  0  0 53  0  0  0]\n",
            " [ 0  0  0  0  0  0  0 54  0  1]\n",
            " [ 0  0  0  0  0  0  0  0 43  0]\n",
            " [ 0  0  0  1  0  0  0  1  0 57]]\n"
          ],
          "name": "stdout"
        },
        {
          "output_type": "display_data",
          "data": {
            "image/png": "[encoded data removed]",
            "text/plain": [
              "<Figure size 432x288 with 2 Axes>"
            ]
          },
          "metadata": {
            "tags": [],
            "needs_background": "light"
          }
        }
      ]
    },
    {
      "cell_type": "markdown",
      "metadata": {
        "id": "l2rhzhRfBzJ1"
      },
      "source": [
        "Testando com o KNN e Decision Tree Classifier"
      ]
    },
    {
      "cell_type": "code",
      "metadata": {
        "colab": {
          "base_uri": "https://localhost:8080/"
        },
        "id": "_-dpgtqS-4Lr",
        "outputId": "bcd59896-9d98-4ed3-b1aa-2cc0b276b0ad"
      },
      "source": [
        "## Cria a primeira árvore de decisão do dataset dos dígitos\n",
        "clf_digits = DecisionTreeClassifier(random_state=1234)\n",
        "## Treina a arvore\n",
        "arvore = clf_digits.fit(x, y)\n",
        "## Avalia a arvore \n",
        "arvore.score(x,y)"
      ],
      "execution_count": null,
      "outputs": [
        {
          "output_type": "execute_result",
          "data": {
            "text/plain": [
              "1.0"
            ]
          },
          "metadata": {
            "tags": []
          },
          "execution_count": 121
        }
      ]
    },
    {
      "cell_type": "code",
      "metadata": {
        "colab": {
          "base_uri": "https://localhost:8080/"
        },
        "id": "j8aKMCvZAt5q",
        "outputId": "384cd758-61f0-4c2c-9374-db6dab14dce6"
      },
      "source": [
        "## Cria e roda o o KNN com n = 3\n",
        "neigh_digits = KNeighborsClassifier(n_neighbors=3)\n",
        "neigh_digits.fit(x, y)\n",
        "neigh_digits.score(x, y)"
      ],
      "execution_count": null,
      "outputs": [
        {
          "output_type": "execute_result",
          "data": {
            "text/plain": [
              "0.993322203672788"
            ]
          },
          "metadata": {
            "tags": []
          },
          "execution_count": 122
        }
      ]
    }
  ]
}